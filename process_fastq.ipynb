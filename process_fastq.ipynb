{
 "cells": [
  {
   "cell_type": "markdown",
   "id": "7ba97b37",
   "metadata": {},
   "source": [
    "# Process fastq files\n",
    "\n",
    "## Build a reference\n",
    "Download reference files used by Cell Ranger from: https://support.10xgenomics.com/single-cell-gene-expression/software/downloads/latest\n",
    "\n",
    "Build the reference:"
   ]
  },
  {
   "cell_type": "code",
   "execution_count": null,
   "id": "1992f734",
   "metadata": {},
   "outputs": [],
   "source": [
    "# specify directories/files\n",
    "!ref_dir=\"/Users/sara/Documents/Tools/kallisto-bustools/mouse-ref\"\n",
    "!dna_fa=\"${ref_dir}/fasta/genome.fa\"\n",
    "!gtf=\"${ref_dir}/genes/genes.gtf\"\n",
    "\n",
    "# run kb ref\n",
    "!kb ref -i ${ref_dir}transcriptome.idx -g ${ref_dir}t2g.txt -f1 ${ref_dir}cdna.fa $dna_fa $gtf"
   ]
  },
  {
   "cell_type": "markdown",
   "id": "8194d355",
   "metadata": {},
   "source": [
    "## Check 10x chemistry from fastq files"
   ]
  },
  {
   "cell_type": "markdown",
   "id": "4b5f09fb",
   "metadata": {},
   "source": [
    "Download 10x barcodes whitelists from: https://github.com/10XGenomics/cellranger/tree/master/lib/python/cellranger/barcodes"
   ]
  },
  {
   "cell_type": "markdown",
   "id": "7033db7d",
   "metadata": {},
   "source": [
    "Check 10x chemistry using one of the fastq files, assuming that all fastq files were generated with the same chemistry"
   ]
  },
  {
   "cell_type": "code",
   "execution_count": 179,
   "id": "91e104c9",
   "metadata": {},
   "outputs": [],
   "source": [
    "# specify fastq directory\n",
    "from os import environ\n",
    "fastq_dir = '/Users/sara/Documents/Data/kaitilin/fastq/'\n",
    "\n",
    "environ['fastq_dir'] = fastq_dir"
   ]
  },
  {
   "cell_type": "code",
   "execution_count": 93,
   "id": "2ce0599d",
   "metadata": {},
   "outputs": [],
   "source": [
    "# get barcodes list from R1 file (assuming barcode length of 16 bases) \n",
    "!gzcat /Users/sara/Documents/Data/kaitilin/fastq/C3-3_S1_L001_R1_001.fastq.gz | grep \"@\" -A 1 | grep -v \"@\" | grep -v \"\\-\\-\" | cut -c 1-16 > /Users/sara/Documents/Data/kaitilin/fastq/R1_bc"
   ]
  },
  {
   "cell_type": "code",
   "execution_count": 198,
   "id": "702c1d65",
   "metadata": {},
   "outputs": [],
   "source": [
    "# Take the first R1 fastq file of the list, instead of inputting a specific file name - NOT WORKING\n",
    "# !ff=$(ls $fastq_dir*R1*gz | head -n 1)\n",
    "\n",
    "# get barcodes list from R1 file (assuming barcode length of 16 bases) \n",
    "# !gzcat $ff | grep \"@\" -A 1 | grep -v \"@\" | grep -v \"\\-\\-\" | cut -c 1-16 > ${ff}R1_bc"
   ]
  },
  {
   "cell_type": "code",
   "execution_count": 102,
   "id": "2f52e1e5",
   "metadata": {},
   "outputs": [],
   "source": [
    "# read barcodes list and whitelists\n",
    "import pandas as pd\n",
    "\n",
    "fold = [fastq_dir,\"R1_bc\"]\n",
    "fpath = \"\".join(fold)\n",
    "r1bc = pd.read_csv(fpath, header = None)\n",
    "wht_v3 = pd.read_csv('/Path/to/whitelists/3M-february-2018.txt', header = None)\n",
    "wht_v2 = pd.read_csv('/Path/to/whitelists/737K-august-2016.txt', header = None) \n",
    "wht_v1 = pd.read_csv('/Path/to/whitelists/737K-april-2014_rc.txt', header = None) \n",
    "\n",
    "# calculate fractions of barcodes overlapping the whitelist for each specific chemistry\n",
    "v3 = pd.merge(r1bc, wht_v3, how='inner', on=[0])\n",
    "v2 = pd.merge(r1bc, wht_v2, how='inner', on=[0])\n",
    "v1 = pd.merge(r1bc, wht_v1, how='inner', on=[0])"
   ]
  },
  {
   "cell_type": "code",
   "execution_count": 113,
   "id": "5ce8ef8c",
   "metadata": {},
   "outputs": [],
   "source": [
    "# get max value for fractions of overlapping barcodes\n",
    "maxf = max(v3.size, v2.size, v1.size) "
   ]
  },
  {
   "cell_type": "code",
   "execution_count": 114,
   "id": "a511d8f2",
   "metadata": {},
   "outputs": [
    {
     "name": "stdout",
     "output_type": "stream",
     "text": [
      "10X chemistry is V3\n"
     ]
    }
   ],
   "source": [
    "# identify 10x chemistry\n",
    "if v3.size == maxf:\n",
    "  print(\"10X chemistry is V3\")\n",
    "  tec = \"10xv3\"\n",
    "elif v2.size == maxf:\n",
    "  print(\"10X chemistry is V2\")\n",
    "  tec = \"10xv2\"\n",
    "else:\n",
    "  print(\"10X chemistry is V1\")\n",
    "  tec = \"10xv1\""
   ]
  },
  {
   "cell_type": "markdown",
   "id": "18e14353",
   "metadata": {},
   "source": [
    "## Check species\n",
    "\n",
    "Check species with FastQ Screen to align fastq files to the correct genome"
   ]
  },
  {
   "cell_type": "markdown",
   "id": "89a20a9c",
   "metadata": {},
   "source": [
    "Download and install FastQ Screen: https://stevenwingett.github.io/FastQ-Screen/"
   ]
  },
  {
   "cell_type": "markdown",
   "id": "bfde53f5",
   "metadata": {},
   "source": [
    "Obtain pre-built Bowtie2 indices of commonly used reference genomes for FastQ Screen:"
   ]
  },
  {
   "cell_type": "code",
   "execution_count": null,
   "id": "132b773b",
   "metadata": {},
   "outputs": [],
   "source": [
    "!fastq_screen --get_genomes"
   ]
  },
  {
   "cell_type": "markdown",
   "id": "dfecf722",
   "metadata": {},
   "source": [
    "Use the configuration file produces by the previous command, which lists the correct paths to the newly downloaded reference genomes and is located in ./FastQ-Screen-0.15.2/FastQ_Screen_Genomes/fastq_screen.conf"
   ]
  },
  {
   "cell_type": "code",
   "execution_count": null,
   "id": "d809f4a6",
   "metadata": {},
   "outputs": [],
   "source": [
    "# run FastQ Screen\n",
    "!fastq_screen /Users/sara/Documents/Data/kaitilin/fastq/C1-1_S1_L001_R2_001.fastq.gz -conf /Users/sara/Documents/Tools/fastq-screen/FastQ-Screen-0.15.2/FastQ_Screen_Genomes/fastq_screen.conf"
   ]
  },
  {
   "cell_type": "code",
   "execution_count": 58,
   "id": "955d949f",
   "metadata": {},
   "outputs": [],
   "source": [
    "# read FastQ Screen output\n",
    "fsout = pd.read_csv('C3-3_S1_L001_R2_001_screen.txt', sep='\\t', engine='python', skiprows=1)"
   ]
  },
  {
   "cell_type": "code",
   "execution_count": null,
   "id": "f47537f5",
   "metadata": {},
   "outputs": [],
   "source": [
    "# read FastQ Screen output\n",
    "fsout = pd.read_csv($ff, sep='\\t', engine='python', skiprows=1)"
   ]
  },
  {
   "cell_type": "code",
   "execution_count": 80,
   "id": "0e51f6c2",
   "metadata": {},
   "outputs": [],
   "source": [
    "# find min value of %Unmapped\n",
    "unmapped = fsout[\"%Unmapped\"]\n",
    "min_index = unmapped.idxmin()"
   ]
  },
  {
   "cell_type": "code",
   "execution_count": 118,
   "id": "39c9e1ea",
   "metadata": {},
   "outputs": [
    {
     "name": "stdout",
     "output_type": "stream",
     "text": [
      "Species is mouse\n"
     ]
    }
   ],
   "source": [
    "# get species\n",
    "genome = fsout[\"Genome\"]\n",
    "species = genome[min_index].lower()\n",
    "print(\"Species is\", species)"
   ]
  },
  {
   "cell_type": "markdown",
   "id": "03272f4e",
   "metadata": {},
   "source": [
    "## Generate a raw count matrix"
   ]
  },
  {
   "cell_type": "code",
   "execution_count": null,
   "id": "0024c49a",
   "metadata": {},
   "outputs": [],
   "source": [
    "# run kb count\n",
    "!kb count -i /Users/sara/Documents/Tools/kallisto-bustools/\"$species\"-ref/\"$species\"-reftranscriptome.idx -g /Users/sara/Documents/Tools/kallisto-bustools/\"$species\"-ref/\"$species\"-reft2g.txt -x $tec -o /Users/sara/Documents/Data/kaitilin/C1_kbcount_output \\\n",
    "/Users/sara/Documents/Data/kaitilin/fastq/C1-1_S1_L001_R1_001.fastq.gz \\\n",
    "/Users/sara/Documents/Data/kaitilin/fastq/C1-1_S1_L001_R2_001.fastq.gz\n",
    "\n",
    "!kb count -i /Users/sara/Documents/Tools/kallisto-bustools/\"$species\"-ref/\"$species\"-reftranscriptome.idx -g /Users/sara/Documents/Tools/kallisto-bustools/\"$species\"-ref/\"$species\"-reft2g.txt -x $tec -o C2_kbcount_output \\\n",
    "/Users/sara/Documents/Data/kaitilin/fastq/C2-2_S1_L001_R1_001.fastq.gz \\\n",
    "/Users/sara/Documents/Data/kaitilin/fastq/C2-2_S1_L001_R2_001.fastq.gz\n",
    "\n",
    "!kb count -i /Users/sara/Documents/Tools/kallisto-bustools/\"$species\"-ref/\"$species\"-reftranscriptome.idx -g /Users/sara/Documents/Tools/kallisto-bustools/\"$species\"-ref/\"$species\"-reft2g.txt -x $tec -o C3_kbcount_output \\\n",
    "/Users/sara/Documents/Data/kaitilin/fastq/C3-3_S1_L001_R1_001.fastq.gz \\\n",
    "/Users/sara/Documents/Data/kaitilin/fastq/C3-3_S1_L001_R2_001.fastq.gz\n",
    "\n",
    "!kb count -i /Users/sara/Documents/Tools/kallisto-bustools/\"$species\"-ref/\"$species\"-reftranscriptome.idx -g /Users/sara/Documents/Tools/kallisto-bustools/\"$species\"-ref/\"$species\"-reft2g.txt -x $tec -o D1_kbcount_output \\\n",
    "/Users/sara/Documents/Data/kaitilin/fastq/D1-1_S1_L001_R1_001.fastq.gz \\\n",
    "/Users/sara/Documents/Data/kaitilin/fastq/D1-1_S1_L001_R2_001.fastq.gz\n",
    "\n",
    "!kb count -i /Users/sara/Documents/Tools/kallisto-bustools/\"$species\"-ref/\"$species\"-reftranscriptome.idx -g /Users/sara/Documents/Tools/kallisto-bustools/\"$species\"-ref/\"$species\"-reft2g.txt -x $tec -o D2_kbcount_output \\\n",
    "/Users/sara/Documents/Data/kaitilin/fastq/D2-2_S1_L001_R1_001.fastq.gz \\\n",
    "/Users/sara/Documents/Data/kaitilin/fastq/D2-2_S1_L001_R2_001.fastq.gz\n",
    "\n",
    "!kb count -i /Users/sara/Documents/Tools/kallisto-bustools/\"$species\"-ref/\"$species\"-reftranscriptome.idx -g /Users/sara/Documents/Tools/kallisto-bustools/\"$species\"-ref/\"$species\"-reft2g.txt -x $tec -o D3_kbcount_output \\\n",
    "/Users/sara/Documents/Data/kaitilin/fastq/D3-3_S1_L001_R1_001.fastq.gz \\\n",
    "/Users/sara/Documents/Data/kaitilin/fastq/D3-3_S1_L001_R2_001.fastq.gz\n",
    "\n",
    "!kb count -i /Users/sara/Documents/Tools/kallisto-bustools/\"$species\"-ref/\"$species\"-reftranscriptome.idx -g /Users/sara/Documents/Tools/kallisto-bustools/\"$species\"-ref/\"$species\"-reft2g.txt -x $tec -o P1_kbcount_output \\\n",
    "/Users/sara/Documents/Data/kaitilin/fastq/P1-1_S1_L001_R1_001.fastq.gz \\\n",
    "/Users/sara/Documents/Data/kaitilin/fastq/P1-1_S1_L001_R2_001.fastq.gz\n",
    "\n",
    "!kb count -i /Users/sara/Documents/Tools/kallisto-bustools/\"$species\"-ref/\"$species\"-reftranscriptome.idx -g /Users/sara/Documents/Tools/kallisto-bustools/\"$species\"-ref/\"$species\"-reft2g.txt -x $tec -o P2_kbcount_output \\\n",
    "/Users/sara/Documents/Data/kaitilin/fastq/P2-2_S1_L001_R1_001.fastq.gz \\\n",
    "/Users/sara/Documents/Data/kaitilin/fastq/P2-2_S1_L001_R2_001.fastq.gz\n",
    "\n",
    "!kb count -i /Users/sara/Documents/Tools/kallisto-bustools/\"$species\"-ref/\"$species\"-reftranscriptome.idx -g /Users/sara/Documents/Tools/kallisto-bustools/\"$species\"-ref/\"$species\"-reft2g.txt -x $tec -o P3_kbcount_output \\\n",
    "/Users/sara/Documents/Data/kaitilin/fastq/P3-3_S1_L001_R1_001.fastq.gz \\\n",
    "/Users/sara/Documents/Data/kaitilin/fastq/P3-3_S1_L001_R2_001.fastq.gz\n"
   ]
  },
  {
   "cell_type": "markdown",
   "id": "c3796b03",
   "metadata": {},
   "source": [
    "## Convert to 10x files"
   ]
  },
  {
   "cell_type": "markdown",
   "id": "7bf92c27",
   "metadata": {},
   "source": [
    "See script conv_kbout_to_10x.R"
   ]
  }
 ],
 "metadata": {
  "kernelspec": {
   "display_name": "Python 3 (ipykernel)",
   "language": "python",
   "name": "python3"
  },
  "language_info": {
   "codemirror_mode": {
    "name": "ipython",
    "version": 3
   },
   "file_extension": ".py",
   "mimetype": "text/x-python",
   "name": "python",
   "nbconvert_exporter": "python",
   "pygments_lexer": "ipython3",
   "version": "3.9.7"
  }
 },
 "nbformat": 4,
 "nbformat_minor": 5
}
