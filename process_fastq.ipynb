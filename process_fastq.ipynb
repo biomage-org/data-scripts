{
    "cells": [
        {
            "cell_type": "markdown",
            "id": "7ba97b37",
            "metadata": {},
            "source": [
                "# Process fastq files\n"
            ]
        },
        {
            "cell_type": "markdown",
            "id": "ea03a369",
            "metadata": {},
            "source": [
                "Install [`kb-python`](https://www.kallistobus.tools/kb_usage/kb_usage/#kallisto-and-bustools)"
            ]
        },
        {
            "cell_type": "code",
            "execution_count": null,
            "id": "459ed1f3",
            "metadata": {},
            "outputs": [],
            "source": [
                "%pip install kb-python"
            ]
        },
        {
            "cell_type": "markdown",
            "id": "34a04647",
            "metadata": {},
            "source": [
                "\n",
                "## Build a reference\n",
                "Download reference files used by Cell Ranger, by uncommenting the corresponding \"`species`\" line. The references can also be directly downloaded from the [10x support page](https://support.10xgenomics.com/single-cell-gene-expression/software/downloads/latest).\n",
                "\n",
                "NOTE: If the species are not human nor mouse, you should download the corresponding transcriptome reference, t2g and gtf files, from your favorite source and modify the paths accordingly."
            ]
        },
        {
            "cell_type": "code",
            "execution_count": null,
            "id": "aebc654a",
            "metadata": {},
            "outputs": [],
            "source": [
                "#species = \"human\"\n",
                "species = \"mouse\"\n",
                "\n",
                "if species == \"human\":\n",
                "    # Human reference\n",
                "    !curl -O https://cf.10xgenomics.com/supp/cell-exp/refdata-gex-GRCh38-2020-A.tar.gz\n",
                "    !mkdir ./human-ref\n",
                "    !tar -xvf refdata-gex-GRCh38-2020-A.tar.gz --directory ./human-ref\n",
                "elif species == \"mouse\":\n",
                "    # Mouse reference\n",
                "    !curl -O https://cf.10xgenomics.com/supp/cell-exp/refdata-gex-mm10-2020-A.tar.gz\n",
                "    !mkdir ./mouse-ref\n",
                "    !tar -xvf refdata-gex-mm10-2020-A.tar.gz --directory ./mouse-ref"
            ]
        },
        {
            "cell_type": "markdown",
            "id": "3b9ab0ef",
            "metadata": {},
            "source": [
                "Build the reference:"
            ]
        },
        {
            "cell_type": "code",
            "execution_count": null,
            "id": "1992f734",
            "metadata": {},
            "outputs": [],
            "source": [
                "# specify directories/files\n",
                "if species == \"human\":\n",
                "    !ref_dir=\"./human-ref\"\n",
                "elif species == \"mouse\":\n",
                "    !ref_dir=\"./mouse-ref\"\n",
                "\n",
                "!dna_fa=\"${ref_dir}/fasta/genome.fa\"\n",
                "!gtf=\"${ref_dir}/genes/genes.gtf\"\n",
                "\n",
                "# run kb ref\n",
                "!kb ref -i ${ref_dir}transcriptome.idx -g ${ref_dir}t2g.txt -f1 ${ref_dir}cdna.fa $dna_fa $gtf"
            ]
        },
        {
            "cell_type": "markdown",
            "id": "8194d355",
            "metadata": {},
            "source": [
                "## Check 10x chemistry from fastq files"
            ]
        },
        {
            "cell_type": "markdown",
            "id": "4b5f09fb",
            "metadata": {},
            "source": [
                "Download 10x barcode whitelists using `wget`. You can also directly download from \n",
                "the [cellranger github repository](https://github.com/10XGenomics/cellranger/tree/master/lib/python/cellranger/barcodes)"
            ]
        },
        {
            "cell_type": "code",
            "execution_count": null,
            "id": "b9f7ee14",
            "metadata": {},
            "outputs": [],
            "source": [
                "!wget https://github.com/10XGenomics/cellranger/blob/master/lib/python/cellranger/barcodes/3M-february-2018.txt.gz\n",
                "!gunzip ./3M-february-2018.txt.gz\n",
                "!wget https://github.com/10XGenomics/cellranger/blob/master/lib/python/cellranger/barcodes/737K-april-2014_rc.txt\n",
                "!wget https://github.com/10XGenomics/cellranger/blob/master/lib/python/cellranger/barcodes/737K-august-2016.txt"
            ]
        },
        {
            "cell_type": "markdown",
            "id": "7033db7d",
            "metadata": {},
            "source": [
                "Check 10x chemistry using one of the fastq files, assuming that all fastq files were generated with the same chemistry"
            ]
        },
        {
            "cell_type": "code",
            "execution_count": 8,
            "id": "91e104c9",
            "metadata": {},
            "outputs": [
                {
                    "name": "stdout",
                    "output_type": "stream",
                    "text": [
                        "/Users/sara/Documents/Data/kaitilin/fastq/\n"
                    ]
                }
            ],
            "source": [
                "# specify fastq directory\n",
                "from os import environ\n",
                "fastq_dir = './fastq/'\n",
                "\n",
                "environ['fastq_dir'] = fastq_dir"
            ]
        },
        {
            "cell_type": "markdown",
            "id": "679590b8",
            "metadata": {},
            "source": [
                "Get the barcodes from any one of the R1 files. Replace the path with one of yours."
            ]
        },
        {
            "cell_type": "code",
            "execution_count": 93,
            "id": "2ce0599d",
            "metadata": {},
            "outputs": [],
            "source": [
                "# get barcodes list from R1 file (assuming barcode length of 16 bases) \n",
                "!gzcat ./fastq/path-to-R1-file.fastq.gz | grep \"@\" -A 1 | grep -v \"@\" | grep -v \"\\-\\-\" | cut -c 1-16 > ./R1_bc"
            ]
        },
        {
            "cell_type": "code",
            "execution_count": 102,
            "id": "2f52e1e5",
            "metadata": {},
            "outputs": [],
            "source": [
                "# read barcodes list and whitelists\n",
                "import pandas as pd\n",
                "from pathlib import Path\n",
                "\n",
                "# path to the extracted R1 barcodes\n",
                "fpath = Path(fastq_dir, \"R1_bc\")\n",
                "\n",
                "# read extracted R1 barcodes\n",
                "r1bc = pd.read_csv(fpath, header = None)\n",
                "\n",
                "# load whitelists for all 10x chromium chemistries\n",
                "wht_v3 = pd.read_csv('./3M-february-2018.txt', header = None)\n",
                "wht_v2 = pd.read_csv('./737K-august-2016.txt', header = None) \n",
                "wht_v1 = pd.read_csv('./737K-april-2014_rc.txt', header = None) \n",
                "\n",
                "# calculate fractions of barcodes overlapping the whitelist for each specific chemistry\n",
                "v3 = pd.merge(r1bc, wht_v3, how='inner', on=[0])\n",
                "v2 = pd.merge(r1bc, wht_v2, how='inner', on=[0])\n",
                "v1 = pd.merge(r1bc, wht_v1, how='inner', on=[0])"
            ]
        },
        {
            "cell_type": "code",
            "execution_count": 113,
            "id": "5ce8ef8c",
            "metadata": {},
            "outputs": [],
            "source": [
                "# get max value for fractions of overlapping barcodes\n",
                "maxf = max(v3.size, v2.size, v1.size) "
            ]
        },
        {
            "cell_type": "code",
            "execution_count": null,
            "id": "a511d8f2",
            "metadata": {},
            "outputs": [],
            "source": [
                "# identify 10x chemistry\n",
                "if v3.size == maxf:\n",
                "  print(\"10X chemistry is V3\")\n",
                "  tec = \"10xv3\"\n",
                "elif v2.size == maxf:\n",
                "  print(\"10X chemistry is V2\")\n",
                "  tec = \"10xv2\"\n",
                "else:\n",
                "  print(\"10X chemistry is V1\")\n",
                "  tec = \"10xv1\""
            ]
        },
        {
            "cell_type": "markdown",
            "id": "39e514b3",
            "metadata": {},
            "source": [
                "## Check species\n",
                "\n",
                "Check species with FastQ Screen to align fastq files to the correct genome.\n",
                "Download and install FastQ Screen: https://stevenwingett.github.io/FastQ-Screen/\n",
                "Obtain pre-built Bowtie2 indices of commonly used reference genomes for FastQ Screen:"
            ]
        },
        {
            "cell_type": "code",
            "execution_count": null,
            "id": "7344f732",
            "metadata": {},
            "outputs": [],
            "source": [
                "!fastq_screen --get_genomes -outdir ./fastq_screen_genomes\n",
                "!fastq_screen /path/to/some/R2/ -conf ./fastq_screen_genomes/fastq_screen.conf\n",
                "\n",
                "# read FastQ Screen output\n",
                "fsout = pd.read_csv('path/to/screen/output/', sep='\\t', engine='python', skiprows=1)\n",
                "\n",
                "# find min value of %Unmapped\n",
                "unmapped = fsout[\"%Unmapped\"]\n",
                "min_index = unmapped.idxmin()\n",
                "\n",
                "# get species\n",
                "genome = fsout[\"Genome\"]\n",
                "fastq_screen_species = genome[min_index].lower()\n",
                "print(\"Species is\", fastq_screen_species)"
            ]
        },
        {
            "cell_type": "markdown",
            "id": "03272f4e",
            "metadata": {},
            "source": [
                "## Generate a raw count matrix"
            ]
        },
        {
            "cell_type": "markdown",
            "id": "4905519e",
            "metadata": {},
            "source": [
                "To generate the count matrices for each sample, we have to run `kb count`. It needs several arguments:\n",
                "1. `-i`: the index file, generated by `kb ref`. Its name should be \"`species-reftranscriptome.idx`\". Located in the \"`species-ref`\" directory (with the correct species)\n",
                "2. `-g`: the gtf file. Its name should be \"`species-reft2g.txt`\"\n",
                "3. `-x`: the 10x technology, which can be known or derived from the barcodes, as we did previously. Should be one of the strings `\"10xv1\"`, `\"10xv2\"`, `\"10xv3\"`. If inferred, should be saved in the variable \"`$tec`\"\n",
                "4. `-o`: the output folder. Should be the name of the sample.\n",
                "5. The fastq files. Should be an even number of files, and the same amount of R1's and R2's. You should add all R1's and R2's corresponding to the sample. separated by spaces (or \\ to break the line). And they should be ordered R1 then R2, then R1... etc.\n",
                "\n",
                "This needs doing for each sample. We leave two examples filled out, but they should be replaced by your own samples. We assume that the species is Mus musculus and that the 10x chemistry is version 3 (\"10xv3\"), and that we have 4 fastq files per sample"
            ]
        },
        {
            "cell_type": "code",
            "execution_count": null,
            "id": "0024c49a",
            "metadata": {},
            "outputs": [],
            "source": [
                "# run kb count\n",
                "!kb count -i ./mouse-ref/mouse-reftranscriptome.idx -g ./mouse-ref/mouse-reft2g.txt -x \"10xv3\" -o ./SAMPLE_1_kbcount_output \\\n",
                "./fastq/SAMPLE_1_L001_R1_001.fastq.gz \\\n",
                "./fastq/SAMPLE_1_L001_R2_001.fastq.gz \\\n",
                "./fastq/SAMPLE_1_L002_R1_001.fastq.gz \\\n",
                "./fastq/SAMPLE_1_L002_R2_001.fastq.gz \\\n",
                "\n",
                "\n",
                "!kb count -i ./mouse-ref/mouse-reftranscriptome.idx -g ./mouse-ref/mouse-reft2g.txt -x \"10xv3\" -o ./SAMPLE_2_kbcount_output \\\n",
                "./fastq/SAMPLE_2_L001_R1_001.fastq.gz \\\n",
                "./fastq/SAMPLE_2_L001_R2_001.fastq.gz \\\n",
                "./fastq/SAMPLE_2_L002_R1_001.fastq.gz \\\n",
                "./fastq/SAMPLE_2_L002_R2_001.fastq.gz \\\n",
                "\n",
                "# keep adding these lines for the extra samples. \n"
            ]
        },
        {
            "cell_type": "markdown",
            "id": "c3796b03",
            "metadata": {},
            "source": [
                "## Convert to 10x files"
            ]
        },
        {
            "cell_type": "markdown",
            "id": "0a61642d",
            "metadata": {},
            "source": [
                "Lastly, we have to convert the kallisto bustools output to cellranger/10x like files (one folder per sample, each with barcodes/features/matrix files). For that we have an R script that does it automatically. You should have the reformat.R file inside the same folder as the notebook. Running the following cell should take care of things, but in case Rscript is not found, the simplest solution is to run the contents of the script interactively in Rstudio."
            ]
        },
        {
            "cell_type": "code",
            "execution_count": null,
            "id": "c7883082",
            "metadata": {},
            "outputs": [],
            "source": [
                "!Rscript ./reformat.R $species"
            ]
        }
    ],
    "metadata": {
        "interpreter": {
            "hash": "aee8b7b246df8f9039afb4144a1f6fd8d2ca17a180786b69acc140d282b71a49"
        },
        "kernelspec": {
            "display_name": "Python 3.9.12 64-bit",
            "language": "python",
            "name": "python3"
        },
        "language_info": {
            "codemirror_mode": {
                "name": "ipython",
                "version": 3
            },
            "file_extension": ".py",
            "mimetype": "text/x-python",
            "name": "python",
            "nbconvert_exporter": "python",
            "pygments_lexer": "ipython3",
            "version": "3.9.13"
        }
    },
    "nbformat": 4,
    "nbformat_minor": 5
}
